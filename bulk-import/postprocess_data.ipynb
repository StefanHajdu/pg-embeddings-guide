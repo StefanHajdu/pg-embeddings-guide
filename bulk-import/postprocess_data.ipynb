{
 "cells": [
  {
   "cell_type": "code",
   "execution_count": 2,
   "metadata": {},
   "outputs": [
    {
     "name": "stdout",
     "output_type": "stream",
     "text": [
      "Collecting jsonlines\n",
      "  Using cached jsonlines-4.0.0-py3-none-any.whl.metadata (1.6 kB)\n",
      "Collecting attrs>=19.2.0 (from jsonlines)\n",
      "  Using cached attrs-24.2.0-py3-none-any.whl.metadata (11 kB)\n",
      "Using cached jsonlines-4.0.0-py3-none-any.whl (8.7 kB)\n",
      "Using cached attrs-24.2.0-py3-none-any.whl (63 kB)\n",
      "Installing collected packages: attrs, jsonlines\n",
      "Successfully installed attrs-24.2.0 jsonlines-4.0.0\n",
      "Note: you may need to restart the kernel to use updated packages.\n"
     ]
    }
   ],
   "source": [
    "%pip install jsonlines"
   ]
  },
  {
   "cell_type": "code",
   "execution_count": 2,
   "metadata": {},
   "outputs": [],
   "source": [
    "import json\n",
    "import os\n",
    "import io\n",
    "import jsonlines"
   ]
  },
  {
   "cell_type": "code",
   "execution_count": null,
   "metadata": {},
   "outputs": [],
   "source": [
    "missing = []\n",
    "\n",
    "with open(\"data/comments/ids/drinker.json\") as ids_f:\n",
    "    ids_json = json.load(ids_f)\n",
    "\n",
    "for f_name in os.scandir(\"data/comments\"):\n",
    "    if not f_name.name.endswith(\"json\"):\n",
    "        continue\n",
    "\n",
    "    if f_name.stat().st_size <= 2:\n",
    "        missing.append(f_name.name.replace(\".json\", \"\"))\n",
    "\n",
    "print(len(missing))\n",
    "\n",
    "ids_json[\"missing\"] = missing\n",
    "\n",
    "with open(\"data/comments/ids/drinker.json\", \"w\") as ids_f:\n",
    "    ids_f.write(json.dumps(ids_json))"
   ]
  },
  {
   "cell_type": "code",
   "execution_count": 4,
   "metadata": {},
   "outputs": [
    {
     "name": "stdout",
     "output_type": "stream",
     "text": [
      "[{'author': '@Pouria_odinson', 'text': 'Now I hope Hollywood never makes anything about Cyrus the great 😅', 'likes': 0, 'video_id': 'nie_LASiZJ0'}, {'author': '@SlXkxmx', 'text': 'So she thought Egyptians were angry because she wasn’t white? 🤦\\u200d♂️🤦\\u200d♂️', 'likes': 1, 'video_id': 'nie_LASiZJ0'}]\n"
     ]
    }
   ],
   "source": [
    "all_data = []\n",
    "\n",
    "for f_name in os.scandir(\"../data/comments\"):\n",
    "    try:\n",
    "        with open(\"../data/comments/\" + f_name.name) as f:\n",
    "            d = json.load(f)\n",
    "            for item in d:\n",
    "                item[\"video_id\"] = f_name.name.replace(\".json\", \"\")\n",
    "                all_data.append(item)\n",
    "    except Exception:\n",
    "        continue\n",
    "\n",
    "print(all_data[:2])"
   ]
  },
  {
   "cell_type": "code",
   "execution_count": 5,
   "metadata": {},
   "outputs": [],
   "source": [
    "with open(\"../data/comments/all_data/all_comments.jsonl\", \"w\") as fp:\n",
    "    writer = jsonlines.Writer(fp)\n",
    "    writer.write_all(all_data)\n",
    "    writer.close()"
   ]
  },
  {
   "cell_type": "code",
   "execution_count": 4,
   "metadata": {},
   "outputs": [
    {
     "name": "stdout",
     "output_type": "stream",
     "text": [
      "{'author': '@Pouria_odinson', 'text': 'Now I hope Hollywood never makes anything about Cyrus the great 😅', 'likes': 0, 'video_id': 'nie_LASiZJ0'}\n",
      "{'author': '@SlXkxmx', 'text': 'So she thought Egyptians were angry because she wasn’t white? 🤦\\u200d♂️🤦\\u200d♂️', 'likes': 1, 'video_id': 'nie_LASiZJ0'}\n",
      "{'author': '@wsidechris', 'text': 'This show could have worked in they had cast Maya Rudolph and thus played up the absolute absurdity of it.', 'likes': 0, 'video_id': 'nie_LASiZJ0'}\n",
      "{'author': '@benisrood', 'text': 'I think you missed the obvious connection why _Santa, Inc._ was so cynical and mean-spirited: the upbringing of the two \"creators\". Hint: they never celebrated Christmas. Like so many of their ilk before them, they want to destroy whatever form it takes. Even the vapid, materialistic version we have now is still something they must destroy. That\\'s the fundamental reason, but you something seems to be blocking you from putting two and two together.', 'likes': 0, 'video_id': 'nie_LASiZJ0'}\n"
     ]
    }
   ],
   "source": [
    "\n",
    "with open(\"../data/comments/all_data/all_comments.jsonl\", \"r\") as fp:\n",
    "    reader = jsonlines.Reader(fp)\n",
    "    print(reader.read())\n",
    "    print(reader.read())\n",
    "    print(reader.read())\n",
    "    print(reader.read())"
   ]
  }
 ],
 "metadata": {
  "kernelspec": {
   "display_name": ".venv",
   "language": "python",
   "name": "python3"
  },
  "language_info": {
   "codemirror_mode": {
    "name": "ipython",
    "version": 3
   },
   "file_extension": ".py",
   "mimetype": "text/x-python",
   "name": "python",
   "nbconvert_exporter": "python",
   "pygments_lexer": "ipython3",
   "version": "3.12.3"
  }
 },
 "nbformat": 4,
 "nbformat_minor": 2
}
